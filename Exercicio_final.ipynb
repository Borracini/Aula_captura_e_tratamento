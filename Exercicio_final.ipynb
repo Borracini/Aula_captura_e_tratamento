{
  "nbformat": 4,
  "nbformat_minor": 0,
  "metadata": {
    "colab": {
      "name": "Exercicio_final.ipynb",
      "provenance": [],
      "authorship_tag": "ABX9TyMuH/cdsoAQcj+jpTdSlTwk",
      "include_colab_link": true
    },
    "kernelspec": {
      "name": "python3",
      "display_name": "Python 3"
    },
    "language_info": {
      "name": "python"
    }
  },
  "cells": [
    {
      "cell_type": "markdown",
      "metadata": {
        "id": "view-in-github",
        "colab_type": "text"
      },
      "source": [
        "<a href=\"https://colab.research.google.com/github/Borracini/Aula_captura_e_tratamento/blob/main/Exercicio_final.ipynb\" target=\"_parent\"><img src=\"https://colab.research.google.com/assets/colab-badge.svg\" alt=\"Open In Colab\"/></a>"
      ]
    },
    {
      "cell_type": "markdown",
      "metadata": {
        "id": "rlqnLJX7xiiU"
      },
      "source": [
        "1 - Importe as bibliotecas necessárias requests e BeautifulSoup from bs4\n",
        "\n",
        "2 - Utilize a página de referência: 'https://www.google.com/googlebooks/uspto-patents-grants-text.html'"
      ]
    },
    {
      "cell_type": "code",
      "metadata": {
        "id": "FFpmM5CwxKFx"
      },
      "source": [
        "  import requests\n",
        "  from bs4 import BeautifulSoup as BS"
      ],
      "execution_count": null,
      "outputs": []
    },
    {
      "cell_type": "markdown",
      "metadata": {
        "id": "n-OI50eTx-uE"
      },
      "source": [
        "3 - Examine no browser a página de referência\n",
        "\n",
        "4 - Utilize a função get da biblioteca requests para capturar os dados da página"
      ]
    },
    {
      "cell_type": "code",
      "metadata": {
        "id": "AjOyOoY_xlg8"
      },
      "source": [
        "url = 'https://www.google.com/googlebooks/uspto-patents-grants-text.html'\n",
        "resultado = requests.get(url)\n"
      ],
      "execution_count": null,
      "outputs": []
    },
    {
      "cell_type": "markdown",
      "metadata": {
        "id": "_cCv5dPIy_7s"
      },
      "source": [
        "5 - Utilize a biblioteca BeautifulSoup para interpretar ('parse') o content da página.\n",
        "\n",
        "Dica: utilize o intérprete 'html5lib'"
      ]
    },
    {
      "cell_type": "code",
      "metadata": {
        "id": "49Ow8bC7xxRJ"
      },
      "source": [
        "interpretacao = BS(resultado.content,'html5lib')\n",
        "\n"
      ],
      "execution_count": null,
      "outputs": []
    },
    {
      "cell_type": "markdown",
      "metadata": {
        "id": "NzgouNqPzSK7"
      },
      "source": [
        "6 - Sobre o resultado interpretado (soup) busque por todas (find_all) as seções do tipo a, utilizando a opção do atributo href=True: find_all('a', href=True)"
      ]
    },
    {
      "cell_type": "code",
      "metadata": {
        "id": "lZ6J1WrrzKUv"
      },
      "source": [
        "links1 = interpretacao.find_all('a', href=True)"
      ],
      "execution_count": null,
      "outputs": []
    },
    {
      "cell_type": "markdown",
      "metadata": {
        "id": "NKyEm_rjz3Oi"
      },
      "source": [
        "7 - Faça um loop na lista de links encontrada mantendo apenas os links que contém a expressão 'href'\n",
        "Dica: use if 'http' in elemento_do_loop"
      ]
    },
    {
      "cell_type": "code",
      "metadata": {
        "id": "nok8UpIvxy2d"
      },
      "source": [
        "links2 = [l.get('href') for l in links1 if 'http' in l.get('href')]\n",
        "links2\n"
      ],
      "execution_count": null,
      "outputs": []
    },
    {
      "cell_type": "markdown",
      "metadata": {
        "id": "1TXlZomM02Cm"
      },
      "source": [
        "8 - Com outro loop, limpe o resultado para conter apenas os links para os arquivos do tipo *.zip que contenham o texto grant_full_text"
      ]
    },
    {
      "cell_type": "code",
      "metadata": {
        "id": "FtquRgn804lu"
      },
      "source": [
        "#Por que esse código não funciona?\n",
        "\n",
        "links3 = [elemento for elemento in links2 if 'grant_full_text' in elemento]\n",
        "\n",
        "links3"
      ],
      "execution_count": null,
      "outputs": []
    },
    {
      "cell_type": "markdown",
      "metadata": {
        "id": "S7f9zKXz3-gF"
      },
      "source": [
        "9 - Há várias maneiras de separar a lista por anos.\n",
        "\n",
        "  i.Uma possibilidade:\n",
        "\n",
        "\n",
        "\n",
        "   a.Use: from collections import defaultdict\n",
        "\n",
        "   b.Crie um dicionário do tipo my_dict = defaultdict(list)\n",
        "\n",
        "\n",
        "       a.Assim, será possível adicionar elementos em uma lista, para cada ano (chave do dicionário)\n",
        "       b.Faça um loop que vai de 1976 a 2016\n",
        "            a. Dentro desse loop, faça outro loop que passa por todos os links da lista\n",
        "                   a.Teste se o ano está presente no elemento do loop\n",
        "                          a. Caso verdadeiro, adicione ao seu dicionário, com a chave do ano o elemento\n",
        "\n",
        "       c.Algo assim (pseudocodigo)\n",
        "           a.Cria dicionário\n",
        "           b.Para o ano entre os anos de 1976 a 2015 inclusive,\n",
        "              a.Para o link dentro da lista que contém todos os links\n",
        "                  a.Se o ano estiver contido no link\n",
        "                      a.Então, adicione ao dicionário, utilizando a chave ano\n",
        "                      b.my_dic[ano].append(link)\n",
        "\n",
        "\n",
        " ii.Imprime o tamanho da lista de cada ano para saber o número de links daquele ano\n"
      ]
    },
    {
      "cell_type": "code",
      "metadata": {
        "id": "LOZsb8IE3vPE",
        "colab": {
          "base_uri": "https://localhost:8080/"
        },
        "outputId": "ddbf3132-12e7-4b46-b6ad-e613e46b0997"
      },
      "source": [
        "from collections import defaultdict\n",
        "\n",
        "my_dict = defaultdict(list)\n",
        "\n",
        "for ano in range(1976,2016):\n",
        "  for item in links3:\n",
        "    if str(ano) in item:\n",
        "      my_dict[ano].append(item)\n",
        "\n",
        "print(f'Quantidade de anos: {len(my_dict)}')\n"
      ],
      "execution_count": null,
      "outputs": [
        {
          "output_type": "stream",
          "text": [
            "Quantidade de anos: 40\n"
          ],
          "name": "stdout"
        }
      ]
    },
    {
      "cell_type": "code",
      "metadata": {
        "colab": {
          "base_uri": "https://localhost:8080/"
        },
        "id": "2lYMw6-p1GXY",
        "outputId": "4e9879aa-0908-4e78-d148-f8bc32ea2007"
      },
      "source": [
        "for key in my_dict:\n",
        "    print(f'O ano {key} tem tamanho {len(my_dict[key])}')"
      ],
      "execution_count": null,
      "outputs": [
        {
          "output_type": "stream",
          "text": [
            "O ano 1976 tem tamanho 52\n",
            "O ano 1977 tem tamanho 52\n",
            "O ano 1978 tem tamanho 52\n",
            "O ano 1979 tem tamanho 52\n",
            "O ano 1980 tem tamanho 53\n",
            "O ano 1981 tem tamanho 52\n",
            "O ano 1982 tem tamanho 52\n",
            "O ano 1983 tem tamanho 52\n",
            "O ano 1984 tem tamanho 52\n",
            "O ano 1985 tem tamanho 53\n",
            "O ano 1986 tem tamanho 52\n",
            "O ano 1987 tem tamanho 52\n",
            "O ano 1988 tem tamanho 52\n",
            "O ano 1989 tem tamanho 52\n",
            "O ano 1990 tem tamanho 52\n",
            "O ano 1991 tem tamanho 53\n",
            "O ano 1992 tem tamanho 52\n",
            "O ano 1993 tem tamanho 52\n",
            "O ano 1994 tem tamanho 52\n",
            "O ano 1995 tem tamanho 52\n",
            "O ano 1996 tem tamanho 53\n",
            "O ano 1997 tem tamanho 52\n",
            "O ano 1998 tem tamanho 52\n",
            "O ano 1999 tem tamanho 52\n",
            "O ano 2000 tem tamanho 52\n",
            "O ano 2001 tem tamanho 104\n",
            "O ano 2002 tem tamanho 53\n",
            "O ano 2003 tem tamanho 52\n",
            "O ano 2004 tem tamanho 52\n",
            "O ano 2005 tem tamanho 52\n",
            "O ano 2006 tem tamanho 52\n",
            "O ano 2007 tem tamanho 52\n",
            "O ano 2008 tem tamanho 53\n",
            "O ano 2009 tem tamanho 52\n",
            "O ano 2010 tem tamanho 57\n",
            "O ano 2011 tem tamanho 58\n",
            "O ano 2012 tem tamanho 57\n",
            "O ano 2013 tem tamanho 54\n",
            "O ano 2014 tem tamanho 52\n",
            "O ano 2015 tem tamanho 11\n"
          ],
          "name": "stdout"
        }
      ]
    },
    {
      "cell_type": "markdown",
      "metadata": {
        "id": "lhjR01cW__SK"
      },
      "source": [
        "10 - Salve o dicionário em pickle"
      ]
    },
    {
      "cell_type": "code",
      "metadata": {
        "colab": {
          "base_uri": "https://localhost:8080/"
        },
        "id": "P2XPOw7u3TyJ",
        "outputId": "bda97610-75cf-40be-9ed0-1612db145209"
      },
      "source": [
        "import os\n",
        "import pickle\n",
        "\n",
        "if not os.path.exists('data'):\n",
        "    os.mkdir('data')\n",
        "\n",
        "\n",
        "def save_pickle(ob, name='data/dict_to_pickle'):\n",
        "    with open(name, 'wb') as handler:\n",
        "        pickle.dump(ob, handler)\n",
        "    print('Pickle feito com sucesso!')\n",
        "\n",
        "save_pickle(my_dict)"
      ],
      "execution_count": null,
      "outputs": [
        {
          "output_type": "stream",
          "text": [
            "Pickle feito com sucesso!\n"
          ],
          "name": "stdout"
        }
      ]
    },
    {
      "cell_type": "markdown",
      "metadata": {
        "id": "Gwz6LUnKAmnu"
      },
      "source": [
        "11 - Transforme o dicionário em JSON e salve em JSON"
      ]
    },
    {
      "cell_type": "code",
      "metadata": {
        "colab": {
          "base_uri": "https://localhost:8080/"
        },
        "id": "WS-hnwD23qAS",
        "outputId": "6610801f-61e5-482a-9bba-4cb373a2791c"
      },
      "source": [
        "import json\n",
        "\n",
        "def save_json(ob, name='data/dict_to_json'):\n",
        "  with open(name, 'w') as outfile: #usar 'w' ou 'wb'?\n",
        "    json.dump(ob, outfile)\n",
        "  print('Json feito com sucesso!')\n",
        "\n",
        "save_json(my_dict)"
      ],
      "execution_count": 115,
      "outputs": [
        {
          "output_type": "stream",
          "text": [
            "Json feito com sucesso!\n"
          ],
          "name": "stdout"
        }
      ]
    },
    {
      "cell_type": "code",
      "metadata": {
        "colab": {
          "base_uri": "https://localhost:8080/"
        },
        "id": "M19GuBrXDJrq",
        "outputId": "35200da5-de78-4d4e-e372-6bc98cde68ff"
      },
      "source": [
        "#Testando a abertura do arquivo:\n",
        "\n",
        "with open('data/dict_to_json') as infile:\n",
        "    data = json.load(infile)\n",
        "\n",
        "data.keys()"
      ],
      "execution_count": 123,
      "outputs": [
        {
          "output_type": "execute_result",
          "data": {
            "text/plain": [
              "dict_keys(['1976', '1977', '1978', '1979', '1980', '1981', '1982', '1983', '1984', '1985', '1986', '1987', '1988', '1989', '1990', '1991', '1992', '1993', '1994', '1995', '1996', '1997', '1998', '1999', '2000', '2001', '2002', '2003', '2004', '2005', '2006', '2007', '2008', '2009', '2010', '2011', '2012', '2013', '2014', '2015'])"
            ]
          },
          "metadata": {},
          "execution_count": 123
        }
      ]
    },
    {
      "cell_type": "code",
      "metadata": {
        "id": "fJ4SiBcOELBx"
      },
      "source": [
        "#Enviando um código aleatório pra fora. AINDA NÃO É O CÓDIGO FINAL\n",
        "\n",
        "\n",
        "# Exemplo\n",
        "\n",
        "# Chave da API\n",
        "API_KEY = \"bISrNciS0j0yT4WGEWHnkj6cuhs1eZw6\"\n",
        "\n",
        "# Endereço que enviaremos os dados\n",
        "API_ENDPOINT = \"https://pastebin.com/api/api_post.php\"\n",
        "\n",
        "# Esse e o codigo que queremos enviar\n",
        "source_code = '''\n",
        "just some random text you :);\n",
        "'''\n",
        "# O \"data\" tem tudo que \n",
        "data = {'api_dev_key':API_KEY,\n",
        "        'api_option':'paste',\n",
        "        'api_paste_code':source_code,\n",
        "        'api_paste_format':'php'}\n",
        "\n",
        "# Post dos nossos dados\n",
        "r = requests.post(url = API_ENDPOINT, data = data)"
      ],
      "execution_count": 127,
      "outputs": []
    },
    {
      "cell_type": "code",
      "metadata": {
        "colab": {
          "base_uri": "https://localhost:8080/"
        },
        "id": "4Z-LyeiTHVvn",
        "outputId": "de248639-9712-407a-8912-84f0e05cc523"
      },
      "source": [
        "r.content"
      ],
      "execution_count": 128,
      "outputs": [
        {
          "output_type": "execute_result",
          "data": {
            "text/plain": [
              "b'https://pastebin.com/uQtgiAYq'"
            ]
          },
          "metadata": {},
          "execution_count": 128
        }
      ]
    }
  ]
}